{
 "cells": [
  {
   "cell_type": "code",
   "execution_count": 19,
   "metadata": {},
   "outputs": [],
   "source": [
    "class Pics:\n",
    "    def get_pics(manga_index, chapter_index, url, driver, count):\n",
    "       \n",
    "        def tryclick(driver, selector, count=0):  ##保護機制，以防無法定味道還沒渲染出來的元素\n",
    "            try:\n",
    "                elem = driver.find_element_by_css_selector(selector)\n",
    "                # elem = driver.find_element_by_xpath(Xpath)  # 如果你想透過Xpath定位元素\n",
    "                elem.click()  # 點擊定位到的元素\n",
    "            except:\n",
    "                # time.sleep(2)\n",
    "                count += 1\n",
    "                if (count < 2):\n",
    "                    tryclick(driver, selector, count)\n",
    "                # else:\n",
    "                #     print(\"cannot locate element\" + selector)\n",
    "\n",
    "        tryclick(driver, \"#flang > option:nth-child(2)\")  # 設定成中文\n",
    "        tryclick(driver, \"#crstime_search\")  # 點擊「檢索」按鍵\n",
    "        # time.sleep(3) # 等待javascript渲染出來，當然這個部分還有更進階的作法，關鍵字是implicit wait, explicit wait，有興趣可以自己去找\n",
    "               \n",
    "        html = driver.page_source  # 取得html文字\n",
    "        # Find the pic and download it\n",
    "        pic_start_index = int(html.find('img3.8comic.com/2/'))\n",
    "        pic_end_index = pic_start_index + len('img3.8comic.com/2/') + len(str(manga_index)) + 1 + len(str(chapter_index)) + 12\n",
    "        pic_url = 'http://' + html[pic_start_index:pic_end_index]\n",
    "        print(pic_url)\n",
    "      \n",
    "        f = open('{}_{}.jpg'.format(chapter_index, str(count)), 'wb')\n",
    "        f.write(urllib.request.urlopen(pic_url).read())\n",
    "        f.close()\n",
    "        \n",
    "        return html, driver"
   ]
  },
  {
   "cell_type": "code",
   "execution_count": 20,
   "metadata": {},
   "outputs": [],
   "source": [
    "from webdriver_manager.chrome import ChromeDriverManager\n",
    "from selenium import webdriver\n",
    "import time\n",
    "import urllib\n",
    "import math\n",
    "\n",
    "def get_manga(manga_index, chapter_index):\n",
    "    start = time.time()\n",
    "    \n",
    "    chrome_options = webdriver.ChromeOptions()\n",
    "    chrome_options.add_argument('--headless')\n",
    "    driver = webdriver.Chrome(ChromeDriverManager().install(), chrome_options=chrome_options)  # 如果你沒有把webdriver放在同一個資料夾中，必須指定位置給他\n",
    "      \n",
    "#     try:\n",
    "    url = 'https://www.8899.click/online/comic-' + str(manga_index) + '.html?ch=' + str(chapter_index)\n",
    "    driver.get(url)\n",
    "    count = 1\n",
    "    html, driver = Pics.get_pics(manga_index, chapter_index, url, driver, count)\n",
    "\n",
    "    # print(html) # Show the page source\n",
    "    page_start_index = int(html.find('第1/')) + 3\n",
    "    page_end_index = page_start_index + 2\n",
    "    total_page_num = int(html[page_start_index:page_end_index])  # Received the total pages of this chapter\n",
    "\n",
    "    url_list = []\n",
    "    for i in range(2, total_page_num + 1):\n",
    "        url_ext = url + '-' + str(i)\n",
    "        url_list.append(url_ext)\n",
    "\n",
    "    for url in url_list:\n",
    "        driver.get(url)\n",
    "        count += 1 \n",
    "        Pics.get_pics(manga_index, chapter_index, url, driver, count)\n",
    "\n",
    "    driver.close()  # 關掉Driver打開的瀏覽器\n",
    "    end = time.time()\n",
    "    second = math.floor((end - start) % 60)\n",
    "    minute = math.floor((end - start - second) / 60)\n",
    "    avg = round((end - start) / total_page_num, 3)\n",
    "    print('Finished')\n",
    "    print('Total time:', minute, 'm', second, 's')\n",
    "    print('Avg. time:', avg, 's')\n",
    "#     except:\n",
    "#         print('輸入有錯喔! (Incorrect index entered)')\n",
    "#         driver.close()"
   ]
  },
  {
   "cell_type": "code",
   "execution_count": 21,
   "metadata": {},
   "outputs": [
    {
     "name": "stdout",
     "output_type": "stream",
     "text": [
      "\n",
      "Checking for mac64 chromedriver:76.0.3809.126 in cache\n",
      "Driver found in /Users/raymondyang/.wdm/chromedriver/76.0.3809.126/mac64/chromedriver\n"
     ]
    },
    {
     "name": "stderr",
     "output_type": "stream",
     "text": [
      "/Users/raymondyang/anaconda3/lib/python3.7/site-packages/ipykernel_launcher.py:12: DeprecationWarning: use options instead of chrome_options\n",
      "  if sys.path[0] == '':\n"
     ]
    },
    {
     "name": "stdout",
     "output_type": "stream",
     "text": [
      "http://img3.8comic.com/2/103/822/001_NCx.jpg\n",
      "http://img3.8comic.com/2/103/822/002_p24.jpg\n",
      "http://img3.8comic.com/2/103/822/003_5xQ.jpg\n",
      "http://img3.8comic.com/2/103/822/004_DR8.jpg\n",
      "http://img3.8comic.com/2/103/822/005_FjV.jpg\n",
      "http://img3.8comic.com/2/103/822/006_ajF.jpg\n",
      "http://img3.8comic.com/2/103/822/007_87y.jpg\n",
      "http://img3.8comic.com/2/103/822/008_SCy.jpg\n",
      "http://img3.8comic.com/2/103/822/009_Y7D.jpg\n",
      "http://img3.8comic.com/2/103/822/010_44B.jpg\n",
      "http://img3.8comic.com/2/103/822/011_Cxp.jpg\n",
      "http://img3.8comic.com/2/103/822/012_245.jpg\n",
      "http://img3.8comic.com/2/103/822/013_xQD.jpg\n",
      "http://img3.8comic.com/2/103/822/014_R8F.jpg\n",
      "http://img3.8comic.com/2/103/822/015_jVa.jpg\n",
      "http://img3.8comic.com/2/103/822/016_jF8.jpg\n",
      "http://img3.8comic.com/2/103/822/017_7yS.jpg\n",
      "Finished\n",
      "Total time: 1 m 37 s\n",
      "Avg. time: 5.74 s\n"
     ]
    }
   ],
   "source": [
    "get_manga(103,822)"
   ]
  },
  {
   "cell_type": "code",
   "execution_count": null,
   "metadata": {},
   "outputs": [],
   "source": []
  },
  {
   "cell_type": "code",
   "execution_count": null,
   "metadata": {},
   "outputs": [],
   "source": []
  }
 ],
 "metadata": {
  "kernelspec": {
   "display_name": "Python 3",
   "language": "python",
   "name": "python3"
  },
  "language_info": {
   "codemirror_mode": {
    "name": "ipython",
    "version": 3
   },
   "file_extension": ".py",
   "mimetype": "text/x-python",
   "name": "python",
   "nbconvert_exporter": "python",
   "pygments_lexer": "ipython3",
   "version": "3.7.1"
  }
 },
 "nbformat": 4,
 "nbformat_minor": 2
}
